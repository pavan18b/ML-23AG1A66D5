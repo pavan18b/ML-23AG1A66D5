{
  "nbformat": 4,
  "nbformat_minor": 0,
  "metadata": {
    "colab": {
      "provenance": [],
      "authorship_tag": "ABX9TyO2blDn42dw0CAvVicLWZ4p",
      "include_colab_link": true
    },
    "kernelspec": {
      "name": "python3",
      "display_name": "Python 3"
    },
    "language_info": {
      "name": "python"
    }
  },
  "cells": [
    {
      "cell_type": "markdown",
      "metadata": {
        "id": "view-in-github",
        "colab_type": "text"
      },
      "source": [
        "<a href=\"https://colab.research.google.com/github/pavan18b/ML-23AG1A66D5/blob/main/statistical_measures.ipynb\" target=\"_parent\"><img src=\"https://colab.research.google.com/assets/colab-badge.svg\" alt=\"Open In Colab\"/></a>"
      ]
    },
    {
      "cell_type": "code",
      "execution_count": 1,
      "metadata": {
        "colab": {
          "base_uri": "https://localhost:8080/"
        },
        "id": "TSKKh78ZIevD",
        "outputId": "defd7a6f-f036-4cd5-fd31-bd7bcd6b0c75"
      },
      "outputs": [
        {
          "output_type": "stream",
          "name": "stdout",
          "text": [
            "Mean: 5\n",
            "Median: 4.5\n",
            "Mode: 4\n",
            "Variance: 4.0\n",
            "Standard Deviation: 2.0\n"
          ]
        }
      ],
      "source": [
        "import numpy as np\n",
        "from statistics import mean,median,mode\n",
        "\n",
        "#Example data\n",
        "data = [2,4,4,4,5,5,7,9]\n",
        "\n",
        "#Central tendency measures\n",
        "print(\"Mean:\",mean(data))\n",
        "print(\"Median:\",median(data))\n",
        "print(\"Mode:\",mode(data))\n",
        "\n",
        "# Measures of Dispersion\n",
        "print(\"Variance:\", np.var(data))            # Variance (Population)\n",
        "print(\"Standard Deviation:\", np.std(data))  # Standard Deviation (Population)\n",
        ""
      ]
    },
    {
      "cell_type": "code",
      "source": [
        "\n",
        "import math\n",
        "print(math.ceil(2.3))\n",
        "print(math.floor(2.7))\n",
        "print(math.trunc(8.9))"
      ],
      "metadata": {
        "colab": {
          "base_uri": "https://localhost:8080/"
        },
        "id": "TDtCIRJrOQik",
        "outputId": "081eb117-8132-417d-e2f5-5c5f69f0dcb7"
      },
      "execution_count": 4,
      "outputs": [
        {
          "output_type": "stream",
          "name": "stdout",
          "text": [
            "3\n",
            "2\n",
            "8\n"
          ]
        }
      ]
    },
    {
      "cell_type": "code",
      "source": [
        "print(math.pow(2,3))\n",
        "print(math.sqrt(16))\n",
        "print(math.exp(2))\n",
        "print(math.log(100,10))"
      ],
      "metadata": {
        "colab": {
          "base_uri": "https://localhost:8080/"
        },
        "id": "k6o-e-KAO6z-",
        "outputId": "6258db8f-c06f-4e64-9486-ffe10d972efd"
      },
      "execution_count": 6,
      "outputs": [
        {
          "output_type": "stream",
          "name": "stdout",
          "text": [
            "8.0\n",
            "4.0\n",
            "7.38905609893065\n",
            "2.0\n"
          ]
        }
      ]
    },
    {
      "cell_type": "code",
      "source": [
        "print(math.sin(math.pi/2))\n",
        "print(math.cos(0))\n",
        "print(math.tan(math.pi/4))\n",
        "\n",
        "print(math.radians(90))\n",
        "\n",
        "print(math.degrees(math.pi))"
      ],
      "metadata": {
        "colab": {
          "base_uri": "https://localhost:8080/"
        },
        "id": "mzIbL2_6QBEw",
        "outputId": "f87a489d-ebda-4f0d-e8bd-750cc26bb41a"
      },
      "execution_count": 7,
      "outputs": [
        {
          "output_type": "stream",
          "name": "stdout",
          "text": [
            "1.0\n",
            "1.0\n",
            "0.9999999999999999\n",
            "1.5707963267948966\n",
            "180.0\n"
          ]
        }
      ]
    },
    {
      "cell_type": "code",
      "source": [
        "print(math.factorial(5))\n",
        "print(math.gcd(20,8))\n",
        "print(math.fabs(-7.5))"
      ],
      "metadata": {
        "colab": {
          "base_uri": "https://localhost:8080/"
        },
        "id": "oykMVtUbRIpz",
        "outputId": "7dbd00c5-0d48-429f-e84a-ee92eeb75bb2"
      },
      "execution_count": 8,
      "outputs": [
        {
          "output_type": "stream",
          "name": "stdout",
          "text": [
            "120\n",
            "4\n",
            "7.5\n"
          ]
        }
      ]
    },
    {
      "cell_type": "code",
      "source": [
        "print(math.pi)\n",
        "print(math.e)"
      ],
      "metadata": {
        "colab": {
          "base_uri": "https://localhost:8080/"
        },
        "id": "W42YBubOS0WG",
        "outputId": "0ebf3d31-10a7-42d9-96eb-074061004562"
      },
      "execution_count": 9,
      "outputs": [
        {
          "output_type": "stream",
          "name": "stdout",
          "text": [
            "3.141592653589793\n",
            "2.718281828459045\n"
          ]
        }
      ]
    }
  ]
}