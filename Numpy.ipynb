{
  "nbformat": 4,
  "nbformat_minor": 0,
  "metadata": {
    "colab": {
      "provenance": [],
      "authorship_tag": "ABX9TyP/Ph9bu5R1SEEhGvU3ZjI3",
      "include_colab_link": true
    },
    "kernelspec": {
      "name": "python3",
      "display_name": "Python 3"
    },
    "language_info": {
      "name": "python"
    }
  },
  "cells": [
    {
      "cell_type": "markdown",
      "metadata": {
        "id": "view-in-github",
        "colab_type": "text"
      },
      "source": [
        "<a href=\"https://colab.research.google.com/github/pavan18b/ML-23AG1A66D5/blob/main/Numpy.ipynb\" target=\"_parent\"><img src=\"https://colab.research.google.com/assets/colab-badge.svg\" alt=\"Open In Colab\"/></a>"
      ]
    },
    {
      "cell_type": "code",
      "execution_count": 1,
      "metadata": {
        "id": "mMyfY2x-dp3Q"
      },
      "outputs": [],
      "source": [
        "\n",
        "import numpy as np\n",
        ""
      ]
    },
    {
      "cell_type": "code",
      "source": [
        "\n",
        "# create a list named list1\n",
        "list1 = [2, 4, 6, 8]\n",
        "\n",
        "# create numpy array using list1\n",
        "array1 = np.array(list1)\n",
        "\n",
        "print(array1)"
      ],
      "metadata": {
        "colab": {
          "base_uri": "https://localhost:8080/"
        },
        "id": "nicYe4RtdxMS",
        "outputId": "4d3cb28f-7948-42d8-970d-e7c2de77c3da"
      },
      "execution_count": 2,
      "outputs": [
        {
          "output_type": "stream",
          "name": "stdout",
          "text": [
            "[2 4 6 8]\n"
          ]
        }
      ]
    },
    {
      "cell_type": "code",
      "source": [
        "\n",
        "# create numpy array using a list\n",
        "array1 = np.array([2, 4, 6, 8])\n",
        "print(array1)"
      ],
      "metadata": {
        "colab": {
          "base_uri": "https://localhost:8080/"
        },
        "id": "-P8bhSq7dywD",
        "outputId": "b5a52871-c635-437a-bc3b-4b6c14151072"
      },
      "execution_count": 3,
      "outputs": [
        {
          "output_type": "stream",
          "name": "stdout",
          "text": [
            "[2 4 6 8]\n"
          ]
        }
      ]
    },
    {
      "cell_type": "code",
      "source": [
        "# create a 2D array with 2 rows and 4 columns\n",
        "array1 = np.array([[1, 2, 3, 4],\n",
        "                  [5, 6, 7, 8]])\n",
        "\n",
        "print(array1)"
      ],
      "metadata": {
        "colab": {
          "base_uri": "https://localhost:8080/"
        },
        "id": "b2DMroZAd1d8",
        "outputId": "c0f477cf-9f45-403a-fbd5-23e84cd7831f"
      },
      "execution_count": 4,
      "outputs": [
        {
          "output_type": "stream",
          "name": "stdout",
          "text": [
            "[[1 2 3 4]\n",
            " [5 6 7 8]]\n"
          ]
        }
      ]
    },
    {
      "cell_type": "code",
      "source": [
        "# create a 3D array with 2 \"slices\", each of 3 rows and 4 columns\n",
        "array1 = np.array([[[1, 2, 3, 4],\n",
        "                [5, 6, 7, 8],\n",
        "                [9, 10, 11, 12]],\n",
        "\n",
        "                [[13, 14, 15, 16],\n",
        "                 [17, 18, 19, 20],\n",
        "                 [21, 22, 23, 24]]])\n",
        "\n",
        "print(array1)"
      ],
      "metadata": {
        "colab": {
          "base_uri": "https://localhost:8080/"
        },
        "id": "Jl92dEiKd4yj",
        "outputId": "e2eb47a7-e291-49a0-b65d-a4fbd6a518ed"
      },
      "execution_count": 5,
      "outputs": [
        {
          "output_type": "stream",
          "name": "stdout",
          "text": [
            "[[[ 1  2  3  4]\n",
            "  [ 5  6  7  8]\n",
            "  [ 9 10 11 12]]\n",
            "\n",
            " [[13 14 15 16]\n",
            "  [17 18 19 20]\n",
            "  [21 22 23 24]]]\n"
          ]
        }
      ]
    },
    {
      "cell_type": "code",
      "source": [
        "# create an array of integers\n",
        "array1 = np.array([2, 4, 6])\n",
        "\n",
        "# check the data type of array1\n",
        "print(array1.dtype)"
      ],
      "metadata": {
        "colab": {
          "base_uri": "https://localhost:8080/"
        },
        "id": "KXCoPlpdd8Rb",
        "outputId": "425e5553-a00a-42d3-a1bb-106ba35ccbae"
      },
      "execution_count": 6,
      "outputs": [
        {
          "output_type": "stream",
          "name": "stdout",
          "text": [
            "int64\n"
          ]
        }
      ]
    },
    {
      "cell_type": "code",
      "source": [
        "print(array1.ndim)"
      ],
      "metadata": {
        "colab": {
          "base_uri": "https://localhost:8080/"
        },
        "id": "GCvFXItPd_Sr",
        "outputId": "ad944224-6e37-4bb0-a96d-a34d7edbc598"
      },
      "execution_count": 7,
      "outputs": [
        {
          "output_type": "stream",
          "name": "stdout",
          "text": [
            "1\n"
          ]
        }
      ]
    },
    {
      "cell_type": "code",
      "source": [
        "print(array1.size)"
      ],
      "metadata": {
        "colab": {
          "base_uri": "https://localhost:8080/"
        },
        "id": "MoSBQ1BaeCqz",
        "outputId": "ff34950a-bcc8-4881-d84e-05cbad3d2e4f"
      },
      "execution_count": 8,
      "outputs": [
        {
          "output_type": "stream",
          "name": "stdout",
          "text": [
            "3\n"
          ]
        }
      ]
    },
    {
      "cell_type": "code",
      "source": [
        "\n",
        "array1 = np.array([[1, 2, 3],\n",
        "                [6, 7, 8]])\n",
        "\n",
        "# return a tuple that gives size of array in each dimension\n",
        "print(array1.shape)"
      ],
      "metadata": {
        "colab": {
          "base_uri": "https://localhost:8080/"
        },
        "id": "UQxOTC-JeLTs",
        "outputId": "ce8c8c83-d04b-45ce-bc51-c904caa66ec0"
      },
      "execution_count": 9,
      "outputs": [
        {
          "output_type": "stream",
          "name": "stdout",
          "text": [
            "(2, 3)\n"
          ]
        }
      ]
    },
    {
      "cell_type": "code",
      "source": [
        "# create a default 1-D array of integers\n",
        "array1 = np.array([6, 7, 8, 10, 13])\n",
        "\n",
        "# create a 1-D array of 32-bit integers\n",
        "array2 = np.array([6, 7, 8, 10, 13], dtype=np.int32)\n",
        "\n",
        "# use of itemsize to determine size of each array element of array1 and array2\n",
        "print(array1.itemsize)\n",
        "print(array2.itemsize)"
      ],
      "metadata": {
        "colab": {
          "base_uri": "https://localhost:8080/"
        },
        "id": "tDfTNqcueOUD",
        "outputId": "af4db5a7-fc43-430d-cdc8-5813aebfeb50"
      },
      "execution_count": 10,
      "outputs": [
        {
          "output_type": "stream",
          "name": "stdout",
          "text": [
            "8\n",
            "4\n"
          ]
        }
      ]
    },
    {
      "cell_type": "code",
      "source": [
        "\n",
        "array1 = np.array([6, 7, 8])\n",
        "array2 = np.array([[1, 2, 3],\n",
        "                   \t    [6, 7, 8]])\n",
        "\n",
        "# print memory address of array1's and array2's data\n",
        "print(\"\\nData of array1 is: \",array1.data)\n",
        "print(\"Data of array2 is: \",array2.data)"
      ],
      "metadata": {
        "colab": {
          "base_uri": "https://localhost:8080/"
        },
        "id": "SMeKOpxneP8T",
        "outputId": "d8d925e0-3249-4686-cfb2-5570795a9adb"
      },
      "execution_count": 11,
      "outputs": [
        {
          "output_type": "stream",
          "name": "stdout",
          "text": [
            "\n",
            "Data of array1 is:  <memory at 0x7bdb63438400>\n",
            "Data of array2 is:  <memory at 0x7bdb52733030>\n"
          ]
        }
      ]
    },
    {
      "cell_type": "code",
      "source": [
        "array1 = np.array([1, 3, 5, 7, 9])\n",
        "\n",
        "# access numpy elements using index\n",
        "print(array1[0])\n",
        "print(array1[2])\n",
        "print(array1[4])"
      ],
      "metadata": {
        "colab": {
          "base_uri": "https://localhost:8080/"
        },
        "id": "5Xw7dRTReUJ0",
        "outputId": "caa541d6-3d48-4d15-c7b5-df65242b881d"
      },
      "execution_count": 12,
      "outputs": [
        {
          "output_type": "stream",
          "name": "stdout",
          "text": [
            "1\n",
            "5\n",
            "9\n"
          ]
        }
      ]
    },
    {
      "cell_type": "code",
      "source": [
        "\n",
        "array1[1]=10\n",
        "print(array1)"
      ],
      "metadata": {
        "colab": {
          "base_uri": "https://localhost:8080/"
        },
        "id": "G32PfEJVeX1E",
        "outputId": "bb9eeaf7-f478-48fd-bc76-5d49c730e08f"
      },
      "execution_count": 13,
      "outputs": [
        {
          "output_type": "stream",
          "name": "stdout",
          "text": [
            "[ 1 10  5  7  9]\n"
          ]
        }
      ]
    },
    {
      "cell_type": "code",
      "source": [
        "\n",
        "# create a 2D array\n",
        "array1 = np.array([[1, 3, 5, 7],\n",
        "                       [9, 11, 13, 15],\n",
        "                       [2, 4, 6, 8]])\n",
        "\n",
        "\n",
        "# access the element at the second row and fourth column\n",
        "element1 = array1[1, 3]  # returns 15\n",
        "print(\"4th Element at 2nd Row:\",element1)\n",
        "\n",
        "# access the element at the first row and second column\n",
        "element2 = array1[0, 1]  # returns 3\n",
        "print(\"2nd Element at First Row:\",element2)"
      ],
      "metadata": {
        "colab": {
          "base_uri": "https://localhost:8080/"
        },
        "id": "VUTtLpgOeazk",
        "outputId": "cc6cdae8-76e6-4372-c97c-fcfde39fa1b3"
      },
      "execution_count": 14,
      "outputs": [
        {
          "output_type": "stream",
          "name": "stdout",
          "text": [
            "4th Element at 2nd Row: 15\n",
            "2nd Element at First Row: 3\n"
          ]
        }
      ]
    },
    {
      "cell_type": "code",
      "source": [
        "# create a 1D array with 5 elements\n",
        "array1 = np.array([1, 2, 3, 4, 5])\n",
        "\n",
        "# calculate the median\n",
        "median = np.median(array1)\n",
        "\n",
        "print(median)\n",
        ""
      ],
      "metadata": {
        "colab": {
          "base_uri": "https://localhost:8080/"
        },
        "id": "_oryp-o_eePb",
        "outputId": "60749c4a-fe51-4ebb-fa6d-aeb4c211cc5a"
      },
      "execution_count": 15,
      "outputs": [
        {
          "output_type": "stream",
          "name": "stdout",
          "text": [
            "3.0\n"
          ]
        }
      ]
    },
    {
      "cell_type": "code",
      "source": [
        "# create a numpy array\n",
        "marks = np.array([76, 78, 81, 66, 85])\n",
        "\n",
        "# compute the mean of marks\n",
        "mean_marks = np.mean(marks)\n",
        "\n",
        "print(mean_marks)\n",
        ""
      ],
      "metadata": {
        "colab": {
          "base_uri": "https://localhost:8080/"
        },
        "id": "oiV_ZIfSejkR",
        "outputId": "a11d9a19-8143-4fa8-8675-64310f410a6a"
      },
      "execution_count": 16,
      "outputs": [
        {
          "output_type": "stream",
          "name": "stdout",
          "text": [
            "77.2\n"
          ]
        }
      ]
    },
    {
      "cell_type": "code",
      "source": [
        "# create a numpy array\n",
        "marks = np.array([76, 78, 81, 66, 85])\n",
        "\n",
        "# compute the standard deviation of marks\n",
        "std_marks = np.std(marks)\n",
        "print(std_marks)"
      ],
      "metadata": {
        "colab": {
          "base_uri": "https://localhost:8080/"
        },
        "id": "4V9AlFgIerwP",
        "outputId": "181de0ea-b618-4a55-8ad5-dfb7a277df44"
      },
      "execution_count": 17,
      "outputs": [
        {
          "output_type": "stream",
          "name": "stdout",
          "text": [
            "6.368673331236263\n"
          ]
        }
      ]
    },
    {
      "cell_type": "code",
      "source": [
        "# create a numpy array\n",
        "marks = np.array([76, 78, 81, 66, 85])\n",
        "\n",
        "# compute the standard deviation of marks\n",
        "std_marks = np.percentile(marks,50)\n",
        "print(std_marks)"
      ],
      "metadata": {
        "colab": {
          "base_uri": "https://localhost:8080/"
        },
        "id": "CdKfJ0jHevUe",
        "outputId": "4f68e372-85d4-48fb-ed0c-2f4abe5dda84"
      },
      "execution_count": 19,
      "outputs": [
        {
          "output_type": "stream",
          "name": "stdout",
          "text": [
            "78.0\n"
          ]
        }
      ]
    },
    {
      "cell_type": "code",
      "source": [
        "# create a numpy array\n",
        "marks = np.array([76, 78, 81, 66, 85])\n",
        "\n",
        "# compute the standard deviation of marks\n",
        "std_marks = np.min(marks)\n",
        "print(std_marks)"
      ],
      "metadata": {
        "colab": {
          "base_uri": "https://localhost:8080/"
        },
        "id": "sWnSQJGBe_oJ",
        "outputId": "16144df2-0025-48c0-d0cc-df5a037d8a50"
      },
      "execution_count": 20,
      "outputs": [
        {
          "output_type": "stream",
          "name": "stdout",
          "text": [
            "66\n"
          ]
        }
      ]
    },
    {
      "cell_type": "code",
      "source": [
        "\n",
        "# create a numpy array\n",
        "marks = np.array([76, 78, 81, 66, 85])\n",
        "\n",
        "# compute the standard deviation of marks\n",
        "std_marks = np.max(marks)\n",
        "print(std_marks)"
      ],
      "metadata": {
        "colab": {
          "base_uri": "https://localhost:8080/"
        },
        "id": "_ZFVFWMafAt5",
        "outputId": "61cc094e-5559-439b-f04e-181810bcc41d"
      },
      "execution_count": 21,
      "outputs": [
        {
          "output_type": "stream",
          "name": "stdout",
          "text": [
            "85\n"
          ]
        }
      ]
    }
  ]
}